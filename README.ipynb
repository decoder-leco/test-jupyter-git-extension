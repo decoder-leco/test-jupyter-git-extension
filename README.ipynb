{
 "cells": [
  {
   "cell_type": "markdown",
   "id": "754c2f0a-011f-4688-b784-c0f35f356d33",
   "metadata": {},
   "source": [
    "# The Jupyter Git"
   ]
  },
  {
   "cell_type": "code",
   "execution_count": null,
   "id": "4c25f39d-9377-425b-9c8d-0041696a4de0",
   "metadata": {},
   "outputs": [],
   "source": []
  }
 ],
 "metadata": {
  "kernelspec": {
   "display_name": "R",
   "language": "R",
   "name": "ir"
  },
  "language_info": {
   "codemirror_mode": "r",
   "file_extension": ".r",
   "mimetype": "text/x-r-source",
   "name": "R",
   "pygments_lexer": "r",
   "version": "3.5.0"
  }
 },
 "nbformat": 4,
 "nbformat_minor": 5
}
