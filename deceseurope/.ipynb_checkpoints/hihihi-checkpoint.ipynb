{
 "cells": [
  {
   "cell_type": "markdown",
   "id": "d89527ae-9664-4e07-bf9b-825ff221a4d3",
   "metadata": {},
   "source": [
    "# Démo Bobby"
   ]
  },
  {
   "cell_type": "code",
   "execution_count": 3,
   "id": "84102f41-d14d-4a2b-807d-0c897762b271",
   "metadata": {},
   "outputs": [],
   "source": [
    "import pl from \"npm:nodejs-polars\";\n",
    "import { display } from \"https://deno.land/x/display@v0.1.1/mod.ts\";"
   ]
  },
  {
   "cell_type": "markdown",
   "id": "6019272c-d8b2-4432-9c16-985a550ed2ca",
   "metadata": {
    "@deathbeds/jupyterlab-fonts": {
     "styles": {
      "": {
       "body[data-jp-deck-mode='presenting'] &": {
        "height": "10.871308174224344%",
        "left": "-4.115193684895833%",
        "position": "fixed",
        "top": "67.47091288782816%",
        "width": "90.860595703125%"
       }
      }
     }
    }
   },
   "source": [
    "## Hi hi hi il sait pas ce \n",
    "### Que je vais faire "
   ]
  },
  {
   "cell_type": "markdown",
   "id": "a9a6f073-3211-4f3e-9d48-4de94fbc93de",
   "metadata": {},
   "source": [
    "## Fecth Data Sources"
   ]
  },
  {
   "cell_type": "code",
   "execution_count": 4,
   "id": "4e7af855-ef1d-4e8d-885c-42e6664a2e10",
   "metadata": {},
   "outputs": [],
   "source": [
    "const response_atih = await fetch( \"https://raw.githubusercontent.com/decoderleco/deces_europe/main/data/csv/Atih.csv\", );\n",
    "let data_atih = await response_atih.text();\n",
    "\n",
    "const response_dept_regions =  await fetch( \"https://raw.githubusercontent.com/decoderleco/deces_europe/main/data/csv/departements-region.csv\", );\n",
    "let data_DR = await response_dept_regions.text();"
   ]
  },
  {
   "cell_type": "markdown",
   "id": "72a9ad71-6ba5-4999-bfa7-a6ec854af69a",
   "metadata": {},
   "source": [
    "## Let's clean the data ok?"
   ]
  },
  {
   "cell_type": "code",
   "execution_count": 5,
   "id": "9c41713e-9baf-4e6e-8965-a7e33300a355",
   "metadata": {},
   "outputs": [],
   "source": [
    "const data_atih_cleaned = data_atih.replace(/\"/g, \"\");\n",
    "const data_DR_cleaned = data_DR.replace(/\"/g, \"\");"
   ]
  },
  {
   "cell_type": "markdown",
   "id": "46e7b3bb-d0a9-42ab-bedc-cf9ac8a26fb3",
   "metadata": {},
   "source": [
    "## Now load data frames"
   ]
  },
  {
   "cell_type": "code",
   "execution_count": 6,
   "id": "9c788d51-f4d9-4997-9f50-5e6cc0d36081",
   "metadata": {},
   "outputs": [],
   "source": [
    "const df_atih = pl.readCSV(data_atih_cleaned, { sep: \",\" });\n",
    "const df_DR = pl.readCSV(data_DR_cleaned, { sep: \",\" });"
   ]
  },
  {
   "cell_type": "markdown",
   "id": "56989bc2-eadd-4adc-b8df-4297daefdf84",
   "metadata": {},
   "source": [
    "## Aller on va directment dans le dur"
   ]
  },
  {
   "cell_type": "code",
   "execution_count": 7,
   "id": "0d8d08c1-58e8-4db1-a7b2-1474cc102705",
   "metadata": {
    "@deathbeds/jupyterlab-fonts": {
     "styles": {
      "": {
       "body[data-jp-deck-mode='presenting'] &": {
        "height": "63.20154012529833%",
        "left": "44.46614583333333%",
        "position": "fixed",
        "top": "40.465114110978526%",
        "width": "87.73681640625%"
       }
      }
     }
    }
   },
   "outputs": [
    {
     "data": {
      "application/vnd.dataresource+json": {
       "data": [
        {
         "Année": 2021,
         "Nombre total annuel de patients": 25267786,
         "Taux de Patients Max": 220.01,
         "Taux de Patients Min": 69.41,
         "Taux de Patients moyen": 185.6853846153846,
         "Taux de Patients médian": 187
        },
        {
         "Année": 2020,
         "Nombre total annuel de patients": 23162660,
         "Taux de Patients Max": 199.41,
         "Taux de Patients Min": 66.67,
         "Taux de Patients moyen": 170.46192307692297,
         "Taux de Patients médian": 171.97
        },
        {
         "Année": 2019,
         "Nombre total annuel de patients": 25698108,
         "Taux de Patients Max": 219.93,
         "Taux de Patients Min": 67.76,
         "Taux de Patients moyen": 189.91528846153844,
         "Taux de Patients médian": 191.72
        },
        {
         "Année": 2018,
         "Nombre total annuel de patients": 25512826,
         "Taux de Patients Max": 217.3,
         "Taux de Patients Min": 65.47,
         "Taux de Patients moyen": 188.73615384615385,
         "Taux de Patients médian": 190.64
        },
        {
         "Année": 2017,
         "Nombre total annuel de patients": 25308661,
         "Taux de Patients Max": 215.92,
         "Taux de Patients Min": 62.82,
         "Taux de Patients moyen": 187.16201923076915,
         "Taux de Patients médian": 189.885
        }
       ],
       "schema": {
        "fields": [
         {
          "name": "Année",
          "type": "integer"
         },
         {
          "name": "Taux de Patients Min",
          "type": "number"
         },
         {
          "name": "Taux de Patients moyen",
          "type": "number"
         },
         {
          "name": "Taux de Patients médian",
          "type": "number"
         },
         {
          "name": "Taux de Patients Max",
          "type": "number"
         },
         {
          "name": "Nombre total annuel de patients",
          "type": "integer"
         }
        ]
       }
      },
      "text/html": [
       "<table><thead><tr><th>Année</th><th>Taux de Patients Min</th><th>Taux de Patients moyen</th><th>Taux de Patients médian</th><th>Taux de Patients Max</th><th>Nombre total annuel de patients</th></tr></thead><tbody><tr><td>2021</td><td>69.41</td><td>185.6853846153846</td><td>187</td><td>220.01</td><td>25267786</td></tr><tr><td>2020</td><td>66.67</td><td>170.46192307692297</td><td>171.97</td><td>199.41</td><td>23162660</td></tr><tr><td>2019</td><td>67.76</td><td>189.91528846153844</td><td>191.72</td><td>219.93</td><td>25698108</td></tr><tr><td>2018</td><td>65.47</td><td>188.73615384615385</td><td>190.64</td><td>217.3</td><td>25512826</td></tr><tr><td>2017</td><td>62.82</td><td>187.16201923076915</td><td>189.885</td><td>215.92</td><td>25308661</td></tr></tbody></table>"
      ]
     },
     "execution_count": 7,
     "metadata": {},
     "output_type": "execute_result"
    }
   ],
   "source": [
    "const basic_stats_per_year_df = df_atih.groupBy(\"annee\").agg(\n",
    "    pl.col(\"tauxPatients\").min().alias(\"Taux de Patients Min\"), \n",
    "    pl.col(\"tauxPatients\").mean().alias(\"Taux de Patients moyen\"),\n",
    "    pl.col(\"tauxPatients\").median().alias(\"Taux de Patients médian\"),\n",
    "    pl.col(\"tauxPatients\").max().alias(\"Taux de Patients Max\"),\n",
    "    pl.col(\"nombre_patients\").sum().alias(\"Nombre total annuel de patients\")\n",
    ").sort( {\n",
    "    by: \"annee\",\n",
    "    descending: true\n",
    "}).select(\n",
    "    pl.col(\"annee\").alias(\"Année\"), \n",
    "    pl.col(\"Taux de Patients Min\"), \n",
    "    pl.col(\"Taux de Patients moyen\"), \n",
    "    pl.col(\"Taux de Patients médian\"), \n",
    "    pl.col(\"Taux de Patients Max\"), \n",
    "    pl.col(\"Nombre total annuel de patients\")\n",
    ")\n",
    "basic_stats_per_year_df"
   ]
  },
  {
   "cell_type": "code",
   "execution_count": null,
   "id": "36a3c72c-46af-4fb4-a714-c5b4973e4d8c",
   "metadata": {
    "@deathbeds/jupyterlab-fonts": {
     "styles": {
      "": {
       "body[data-jp-deck-mode='presenting'] &": {
        "height": null,
        "left": null,
        "position": null,
        "top": null,
        "width": null
       }
      }
     }
    },
    "slideshow": {
     "slide_type": "slide"
    }
   },
   "outputs": [],
   "source": []
  }
 ],
 "metadata": {
  "kernelspec": {
   "display_name": "Deno",
   "language": "typescript",
   "name": "deno"
  },
  "language_info": {
   "file_extension": ".ts",
   "mimetype": "text/x.typescript",
   "name": "typescript",
   "nb_converter": "script",
   "pygments_lexer": "typescript",
   "version": "5.3.3"
  }
 },
 "nbformat": 4,
 "nbformat_minor": 5
}
