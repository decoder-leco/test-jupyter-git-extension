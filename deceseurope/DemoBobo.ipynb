{
 "cells": [
  {
   "cell_type": "markdown",
   "id": "1c351148-24b0-4709-b271-92e0622245c1",
   "metadata": {},
   "source": [
    "# Reproduction du repository original"
   ]
  },
  {
   "cell_type": "markdown",
   "id": "bb39d789-b111-4d7b-9c8f-b7bc3e217066",
   "metadata": {},
   "source": [
    "## Installation des dépendances"
   ]
  },
  {
   "cell_type": "code",
   "execution_count": null,
   "id": "eeb8041b-0f9a-42e3-bd0e-2d80af625069",
   "metadata": {},
   "outputs": [],
   "source": []
  }
 ],
 "metadata": {
  "kernelspec": {
   "display_name": "R",
   "language": "R",
   "name": "ir"
  },
  "language_info": {
   "codemirror_mode": "r",
   "file_extension": ".r",
   "mimetype": "text/x-r-source",
   "name": "R",
   "pygments_lexer": "r",
   "version": "3.5.0"
  }
 },
 "nbformat": 4,
 "nbformat_minor": 5
}
